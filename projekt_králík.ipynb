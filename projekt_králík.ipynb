{
 "cells": [
  {
   "cell_type": "markdown",
   "metadata": {},
   "source": [
    "# *Oryctolagus cuniculus* - Králík divoký\n",
    "\n",
    "## zpracoval: *Alexander Nagy*\n"
   ]
  },
  {
   "cell_type": "markdown",
   "metadata": {
    "collapsed": false
   },
   "source": [
    "<img src = \"http://www.warrenphotographic.co.uk/photography/bigs/25761-Mother-rabbit-and-babies-white-background.jpg\" width = 100% alt=\"http://www.warrenphotographic.co.uk/photography/bigs/25761-Mother-rabbit-and-babies-white-background.jpg\">"
   ]
  },
  {
   "cell_type": "markdown",
   "metadata": {},
   "source": [
    "### Úvodní slovo o králíku ###\n",
    "\n",
    "Citováno z: http://www.biolib.cz/cz/taxon/id31923/\n",
    "\n",
    "---------------------------------------------------------------------------\n",
    "\n",
    "**Říše:** Animalia - živočichové\n",
    "\n",
    "**Kmen:** Chordata - strunatci\n",
    "\n",
    "**Třída:** Mammalia - savci\n",
    "\n",
    "**Řád:** Lagomorpha - zajíci\n",
    "\n",
    "**Čeleď:** Laporidae - zajícovití\n",
    "\n",
    "**Rod:** Oryctolagus - králík\n",
    "\n",
    "---------------------------------------------------------------------------\n",
    "\n",
    "**Velikost**: Hmotnost jedinců se pohybuje v rozmezí 1,3 - 2,5 kg. Délka těla od 38 - 55 cm.\n",
    "\n",
    "**Popis:** V porovnání se zajícem Lepus europaeus je králík mnohem menší, má zakulacenou hlavu, zavalitější tělo a kratší uši bez koncových černých skvrn. Silnější přední končetiny slouží i ke hrabání. Ve zbarvení převládá šedý, hnědošedý nebo slabě modrošedý odstín, na břiše je světlejší. V přírodě králíka snadno poznáme podle krátkého, naspodu čistě bílého ocasu.\n",
    "\n",
    "**Rozšíření:** Pochází ze západního Středomoří (Pyrenejského poloostrova a přilehlé severní Afriky), později byl vysazen na různých místech Evropy (dnes chybí na Islandu, ve Skandinávie a Finsku a na jihovýchodě kontinentu), a také v Austrálii, na Novém Zélandu, v Americe a na četných ostrovech.\n",
    "(Bližší informace na http://www.iucnredlist.org/details/41291/0.)\n",
    "\n",
    "---------------------------------------------------------------------------\n",
    "\n",
    "Citováno z: http://www.mlsnykralik.cz/zivot-kralika-divokeho-v-prirode/\n",
    "\n",
    "---------------------------------------------------------------------------\n",
    "\n",
    "**Králík v přírodě:** Králík divoký obývá teplé nížiny. Nevyskytuje se nad 700 m.n.m. Králíci žijí v organizovaných koloniích čítajících i několik desítek králíků. Králíci nejraději budují své kolonie v křovinatých okrajích lesů a polí. Protože žijí v norách, mají v oblibě lehce propustnou půdu, kde se jim nory dobře hloubí. Nemají rádi vlhké oblasti. Nejaktivnější jsou králíci za svítání a hlavně za soumraku, kdy v okolí svých nor spásají rostliny. Pokud králíka neuloví některý z jeho nepřátel, může se dožít až 9 let.\n",
    "\n",
    "**Rozmnožování:** Systém námluv a páření není u králíků jednoduchý. Dominantní samci mají obvykle více samic, zatímco v hierarchii níže postavení samci jsou monogamní. Rozmnožovací období králíků trvá od konce února do října. Samice mají tzv. provokovanou ovulaci. Vajíčko sestoupí až při samotném páření. Samice je březí cirka 30 dnů. Samice vrhá 3  -5 krát ročně. V teplejších krajích může mít ale až 7 vrhů za rok. Mláďata rodí do speciální nory, jejíž konec je vystlaný vlastní srstí. Králík divoký je \"altriciální“ a rodí holé a slepé mláďata. Až za 10 dnů otevřou malí králíci očka. V jednom vrhu je 4 - 8 mláďat. Když králice opustí noru a jde shánět potravu, zahrabe vchod do nory a označkuje ho močí. \n",
    "\n",
    "---------------------------------------------------------------------------\n",
    "\n",
    "### Zajímavosti: ###\n",
    "\n",
    "**- Největší králík na světě**\n",
    "\n",
    "Největším králíkem na světě byl v roce 2010 Darius. S délkou 130 cm a hmotností 22 kg.\n",
    "(https://www.novinky.cz/koktejl/199054-nejvetsi-kralik-na-svete-meri-130-centimetru-a-vazi-pres-22-kilogramu.html)\n",
    "\n",
    "\n",
    "<img src=\"http://img.cncenter.cz/img/3/article/1975121_kralik-velikonoce.jpg\" width=80% alt=\"http://img.cncenter.cz/img/3/article/1975121_kralik-velikonoce.jpg\" >\n",
    "\n",
    "**- **Další zajímavost, která stojí za zmínku je, že i přes dlouholetou snahu člověka vyšlechtit různé barevné varianty králíka, je tato snaha během pouhých několika generací naprosto anulována. Pokud šlechtěný králík uprchne do volné přírody, přežije a začlení se do existující populace divokých králíků, tak jím nesené alely se nemají šanci prosadit a ovlivnit populaci divokých králíků."
   ]
  },
  {
   "cell_type": "markdown",
   "metadata": {},
   "source": [
    "### Úprava vstupních dat"
   ]
  },
  {
   "cell_type": "code",
   "execution_count": 1,
   "metadata": {
    "collapsed": true
   },
   "outputs": [],
   "source": [
    "import pandas as pd\n",
    "import numpy as np\n",
    "import matplotlib.pyplot as plt \n",
    "import matplotlib.mlab as mlab\n",
    "import pylab as pl\n",
    "import re"
   ]
  },
  {
   "cell_type": "code",
   "execution_count": 2,
   "metadata": {
    "collapsed": true
   },
   "outputs": [],
   "source": [
    "genes=pd.read_table('D:\\Programing\\Projekt\\Kralik_chr_gene.gtf', header=None, dtype={0:np.object})\n",
    "genes.columns = [\"seqname\", \"source\", \"feature\", \"start\", \"end\", \"score\", \"strand\", \"frame\", \"attribute\"]"
   ]
  },
  {
   "cell_type": "code",
   "execution_count": 3,
   "metadata": {
    "collapsed": true
   },
   "outputs": [],
   "source": [
    "transcripts=pd.read_table('D:\\Programing\\Projekt\\Kralik_chr_transcript.gtf', header=None, dtype={0:np.object})\n",
    "transcripts.columns = [\"seqname\", \"source\", \"feature\", \"start\", \"end\", \"score\", \"strand\", \"frame\", \"attribute\"]"
   ]
  },
  {
   "cell_type": "code",
   "execution_count": 4,
   "metadata": {
    "collapsed": false
   },
   "outputs": [
    {
     "data": {
      "text/plain": [
       "{'gene_biotype': 'processed_transcript',\n",
       " 'gene_id': 'ENSG00000241860',\n",
       " 'gene_name': 'RP11-34P13.13',\n",
       " 'transcript_biotype': 'antisense',\n",
       " 'transcript_id': 'ENST00000484859',\n",
       " 'transcript_name': 'RP11-34P13.13-004'}"
      ]
     },
     "execution_count": 4,
     "metadata": {},
     "output_type": "execute_result"
    }
   ],
   "source": [
    "def parse_attributes(attributes_str):\n",
    "    \"\"\"Načte obsah sloupce attribute jako `dict`.\n",
    "    \n",
    "    - Pozor, neporadí si se středníky v hodnotách a očekává uvozovky\n",
    "      kolem každé hodnoty.\n",
    "      \n",
    "      \n",
    "    Parametry:\n",
    "    \n",
    "    `attributes_str` - hodnota GTF sloupce attribute jako string\n",
    "    \"\"\"\n",
    "    ONLY_ATTRIBUTES = set([\"gene_id\", \n",
    "                          \"transcript_id\",\n",
    "                          \"gene_name\",\n",
    "                          \"gene_biotype\",\n",
    "                          \"transcript_name\",\n",
    "                          \"transcript_biotype\"])\n",
    "    \n",
    "    out = {}\n",
    "    \n",
    "    for pair in attributes_str.split(\";\"):\n",
    "        if pair.strip() == \"\":\n",
    "            continue\n",
    "        m = re.match(r\"^\\s*(.+) \\\"(.+)\\\"$\", pair)\n",
    "        \n",
    "        if m.group(1) in ONLY_ATTRIBUTES:\n",
    "            out[m.group(1)] = m.group(2)\n",
    "\n",
    "    return out\n",
    "\n",
    "s = \"\"\"gene_id \"ENSG00000241860\"; gene_version \"6\"; transcript_id \"ENST00000484859\"; transcript_version \"1\"; gene_name \"RP11-34P13.13\"; gene_source \"havana\"; gene_biotype \"processed_transcript\"; havana_gene \"OTTHUMG00000002480\"; havana_gene_version \"3\"; transcript_name \"RP11-34P13.13-004\"; transcript_source \"havana\"; transcript_biotype \"antisense\"; havana_transcript \"OTTHUMT00000007035\"; havana_transcript_version \"1\"; tag \"basic\"; transcript_support_level \"5\";\"\"\"\n",
    "parse_attributes(s)"
   ]
  },
  {
   "cell_type": "code",
   "execution_count": 5,
   "metadata": {
    "collapsed": false
   },
   "outputs": [],
   "source": [
    "def split_attribute_column(df):\n",
    "    \"\"\"Rozdělí sloupec `attribute` data frame GTF souboru do vlastních\n",
    "    sloupců.\n",
    "    \"\"\"\n",
    "    attributes_columns = df.attribute.apply(parse_attributes).apply(pd.Series)\n",
    "    return pd.concat([df.drop([\"attribute\"], axis=1),\n",
    "                      attributes_columns],\n",
    "                     axis=1)\n",
    "\n",
    "genes = split_attribute_column(genes)\n",
    "transcripts = split_attribute_column(transcripts)"
   ]
  },
  {
   "cell_type": "markdown",
   "metadata": {},
   "source": [
    "*** Kontrola správné úpravy vstupních dat ***"
   ]
  },
  {
   "cell_type": "code",
   "execution_count": 6,
   "metadata": {
    "collapsed": false
   },
   "outputs": [
    {
     "data": {
      "text/html": [
       "<div>\n",
       "<table border=\"1\" class=\"dataframe\">\n",
       "  <thead>\n",
       "    <tr style=\"text-align: right;\">\n",
       "      <th></th>\n",
       "      <th>seqname</th>\n",
       "      <th>source</th>\n",
       "      <th>feature</th>\n",
       "      <th>start</th>\n",
       "      <th>end</th>\n",
       "      <th>score</th>\n",
       "      <th>strand</th>\n",
       "      <th>frame</th>\n",
       "      <th>gene_biotype</th>\n",
       "      <th>gene_id</th>\n",
       "      <th>gene_name</th>\n",
       "    </tr>\n",
       "  </thead>\n",
       "  <tbody>\n",
       "    <tr>\n",
       "      <th>0</th>\n",
       "      <td>1</td>\n",
       "      <td>ensembl</td>\n",
       "      <td>gene</td>\n",
       "      <td>11369</td>\n",
       "      <td>33974</td>\n",
       "      <td>.</td>\n",
       "      <td>+</td>\n",
       "      <td>.</td>\n",
       "      <td>protein_coding</td>\n",
       "      <td>ENSOCUG00000014251</td>\n",
       "      <td>WDR31</td>\n",
       "    </tr>\n",
       "    <tr>\n",
       "      <th>1</th>\n",
       "      <td>1</td>\n",
       "      <td>ensembl</td>\n",
       "      <td>gene</td>\n",
       "      <td>52453</td>\n",
       "      <td>53037</td>\n",
       "      <td>.</td>\n",
       "      <td>+</td>\n",
       "      <td>.</td>\n",
       "      <td>protein_coding</td>\n",
       "      <td>ENSOCUG00000005054</td>\n",
       "      <td>RNF183</td>\n",
       "    </tr>\n",
       "    <tr>\n",
       "      <th>2</th>\n",
       "      <td>1</td>\n",
       "      <td>ensembl</td>\n",
       "      <td>gene</td>\n",
       "      <td>56534</td>\n",
       "      <td>74905</td>\n",
       "      <td>.</td>\n",
       "      <td>-</td>\n",
       "      <td>.</td>\n",
       "      <td>protein_coding</td>\n",
       "      <td>ENSOCUG00000005046</td>\n",
       "      <td>PRPF4</td>\n",
       "    </tr>\n",
       "    <tr>\n",
       "      <th>3</th>\n",
       "      <td>1</td>\n",
       "      <td>ensembl</td>\n",
       "      <td>gene</td>\n",
       "      <td>75200</td>\n",
       "      <td>85748</td>\n",
       "      <td>.</td>\n",
       "      <td>+</td>\n",
       "      <td>.</td>\n",
       "      <td>protein_coding</td>\n",
       "      <td>ENSOCUG00000005044</td>\n",
       "      <td>CDC26</td>\n",
       "    </tr>\n",
       "    <tr>\n",
       "      <th>4</th>\n",
       "      <td>1</td>\n",
       "      <td>ensembl</td>\n",
       "      <td>gene</td>\n",
       "      <td>88306</td>\n",
       "      <td>106911</td>\n",
       "      <td>.</td>\n",
       "      <td>-</td>\n",
       "      <td>.</td>\n",
       "      <td>protein_coding</td>\n",
       "      <td>ENSOCUG00000005040</td>\n",
       "      <td>SLC31A1</td>\n",
       "    </tr>\n",
       "  </tbody>\n",
       "</table>\n",
       "</div>"
      ],
      "text/plain": [
       "  seqname   source feature  start     end score strand frame    gene_biotype  \\\n",
       "0       1  ensembl    gene  11369   33974     .      +     .  protein_coding   \n",
       "1       1  ensembl    gene  52453   53037     .      +     .  protein_coding   \n",
       "2       1  ensembl    gene  56534   74905     .      -     .  protein_coding   \n",
       "3       1  ensembl    gene  75200   85748     .      +     .  protein_coding   \n",
       "4       1  ensembl    gene  88306  106911     .      -     .  protein_coding   \n",
       "\n",
       "              gene_id gene_name  \n",
       "0  ENSOCUG00000014251     WDR31  \n",
       "1  ENSOCUG00000005054    RNF183  \n",
       "2  ENSOCUG00000005046     PRPF4  \n",
       "3  ENSOCUG00000005044     CDC26  \n",
       "4  ENSOCUG00000005040   SLC31A1  "
      ]
     },
     "execution_count": 6,
     "metadata": {},
     "output_type": "execute_result"
    }
   ],
   "source": [
    "genes.head()"
   ]
  },
  {
   "cell_type": "code",
   "execution_count": 7,
   "metadata": {
    "collapsed": false,
    "scrolled": true
   },
   "outputs": [
    {
     "data": {
      "text/html": [
       "<div>\n",
       "<table border=\"1\" class=\"dataframe\">\n",
       "  <thead>\n",
       "    <tr style=\"text-align: right;\">\n",
       "      <th></th>\n",
       "      <th>seqname</th>\n",
       "      <th>source</th>\n",
       "      <th>feature</th>\n",
       "      <th>start</th>\n",
       "      <th>end</th>\n",
       "      <th>score</th>\n",
       "      <th>strand</th>\n",
       "      <th>frame</th>\n",
       "      <th>gene_biotype</th>\n",
       "      <th>gene_id</th>\n",
       "      <th>gene_name</th>\n",
       "      <th>transcript_biotype</th>\n",
       "      <th>transcript_id</th>\n",
       "      <th>transcript_name</th>\n",
       "    </tr>\n",
       "  </thead>\n",
       "  <tbody>\n",
       "    <tr>\n",
       "      <th>0</th>\n",
       "      <td>1</td>\n",
       "      <td>ensembl</td>\n",
       "      <td>transcript</td>\n",
       "      <td>11369</td>\n",
       "      <td>33974</td>\n",
       "      <td>.</td>\n",
       "      <td>+</td>\n",
       "      <td>.</td>\n",
       "      <td>protein_coding</td>\n",
       "      <td>ENSOCUG00000014251</td>\n",
       "      <td>WDR31</td>\n",
       "      <td>protein_coding</td>\n",
       "      <td>ENSOCUT00000014253</td>\n",
       "      <td>WDR31-201</td>\n",
       "    </tr>\n",
       "    <tr>\n",
       "      <th>1</th>\n",
       "      <td>1</td>\n",
       "      <td>ensembl</td>\n",
       "      <td>transcript</td>\n",
       "      <td>52453</td>\n",
       "      <td>53037</td>\n",
       "      <td>.</td>\n",
       "      <td>+</td>\n",
       "      <td>.</td>\n",
       "      <td>protein_coding</td>\n",
       "      <td>ENSOCUG00000005054</td>\n",
       "      <td>RNF183</td>\n",
       "      <td>protein_coding</td>\n",
       "      <td>ENSOCUT00000005053</td>\n",
       "      <td>RNF183-201</td>\n",
       "    </tr>\n",
       "    <tr>\n",
       "      <th>2</th>\n",
       "      <td>1</td>\n",
       "      <td>ensembl</td>\n",
       "      <td>transcript</td>\n",
       "      <td>56534</td>\n",
       "      <td>74905</td>\n",
       "      <td>.</td>\n",
       "      <td>-</td>\n",
       "      <td>.</td>\n",
       "      <td>protein_coding</td>\n",
       "      <td>ENSOCUG00000005046</td>\n",
       "      <td>PRPF4</td>\n",
       "      <td>protein_coding</td>\n",
       "      <td>ENSOCUT00000005046</td>\n",
       "      <td>PRPF4-201</td>\n",
       "    </tr>\n",
       "    <tr>\n",
       "      <th>3</th>\n",
       "      <td>1</td>\n",
       "      <td>ensembl</td>\n",
       "      <td>transcript</td>\n",
       "      <td>75200</td>\n",
       "      <td>85748</td>\n",
       "      <td>.</td>\n",
       "      <td>+</td>\n",
       "      <td>.</td>\n",
       "      <td>protein_coding</td>\n",
       "      <td>ENSOCUG00000005044</td>\n",
       "      <td>CDC26</td>\n",
       "      <td>protein_coding</td>\n",
       "      <td>ENSOCUT00000005041</td>\n",
       "      <td>CDC26-201</td>\n",
       "    </tr>\n",
       "    <tr>\n",
       "      <th>4</th>\n",
       "      <td>1</td>\n",
       "      <td>ensembl</td>\n",
       "      <td>transcript</td>\n",
       "      <td>88306</td>\n",
       "      <td>106911</td>\n",
       "      <td>.</td>\n",
       "      <td>-</td>\n",
       "      <td>.</td>\n",
       "      <td>protein_coding</td>\n",
       "      <td>ENSOCUG00000005040</td>\n",
       "      <td>SLC31A1</td>\n",
       "      <td>protein_coding</td>\n",
       "      <td>ENSOCUT00000005039</td>\n",
       "      <td>SLC31A1-201</td>\n",
       "    </tr>\n",
       "  </tbody>\n",
       "</table>\n",
       "</div>"
      ],
      "text/plain": [
       "  seqname   source     feature  start     end score strand frame  \\\n",
       "0       1  ensembl  transcript  11369   33974     .      +     .   \n",
       "1       1  ensembl  transcript  52453   53037     .      +     .   \n",
       "2       1  ensembl  transcript  56534   74905     .      -     .   \n",
       "3       1  ensembl  transcript  75200   85748     .      +     .   \n",
       "4       1  ensembl  transcript  88306  106911     .      -     .   \n",
       "\n",
       "     gene_biotype             gene_id gene_name transcript_biotype  \\\n",
       "0  protein_coding  ENSOCUG00000014251     WDR31     protein_coding   \n",
       "1  protein_coding  ENSOCUG00000005054    RNF183     protein_coding   \n",
       "2  protein_coding  ENSOCUG00000005046     PRPF4     protein_coding   \n",
       "3  protein_coding  ENSOCUG00000005044     CDC26     protein_coding   \n",
       "4  protein_coding  ENSOCUG00000005040   SLC31A1     protein_coding   \n",
       "\n",
       "        transcript_id transcript_name  \n",
       "0  ENSOCUT00000014253       WDR31-201  \n",
       "1  ENSOCUT00000005053      RNF183-201  \n",
       "2  ENSOCUT00000005046       PRPF4-201  \n",
       "3  ENSOCUT00000005041       CDC26-201  \n",
       "4  ENSOCUT00000005039     SLC31A1-201  "
      ]
     },
     "execution_count": 7,
     "metadata": {},
     "output_type": "execute_result"
    }
   ],
   "source": [
    "transcripts.head()"
   ]
  },
  {
   "cell_type": "markdown",
   "metadata": {},
   "source": [
    "Kontrola zdroje vstupních dat"
   ]
  },
  {
   "cell_type": "code",
   "execution_count": 8,
   "metadata": {
    "collapsed": false
   },
   "outputs": [
    {
     "data": {
      "text/plain": [
       "array(['ensembl'], dtype=object)"
      ]
     },
     "execution_count": 8,
     "metadata": {},
     "output_type": "execute_result"
    }
   ],
   "source": [
    "genes[\"source\"].unique()"
   ]
  },
  {
   "cell_type": "code",
   "execution_count": 9,
   "metadata": {
    "collapsed": false
   },
   "outputs": [
    {
     "data": {
      "text/plain": [
       "array(['ensembl'], dtype=object)"
      ]
     },
     "execution_count": 9,
     "metadata": {},
     "output_type": "execute_result"
    }
   ],
   "source": [
    "transcripts[\"source\"].unique()"
   ]
  },
  {
   "cell_type": "markdown",
   "metadata": {},
   "source": [
    "Potvrzení původu dat z databáze Ensembl. Prohnáním \"ensembl oryctolagus cuniculus\" přes internetový vyhledávač jsem nalezl mezi výsledky vyhledávání odkaz http://www.ensembl.org/Oryctolagus_cuniculus/Info/Annotation . Je zde možnost ověřit správnost (přesnost) výsledků získaných mnou níže provedenými výpočty."
   ]
  },
  {
   "cell_type": "markdown",
   "metadata": {},
   "source": [
    "<img src=\"https://photos.smugmug.com/Mammals/Misc/i-QFM6t3X/0/XL/RO0A3594_smv1200-XL.jpg\" width=80%>"
   ]
  },
  {
   "cell_type": "markdown",
   "metadata": {},
   "source": [
    "### Analýza dat ###\n",
    "\n",
    "**Osnova:**\n",
    "1. Počet identifikovaných sekvencí v genomu králíka.\n",
    "2. Celkový počet genů.\n",
    "3. Jaké má genotyp králíka typy kódujících genů?\n",
    "4. Kolik je genů v jednotlivých genových typech?\n",
    "    4. Graf četností genových typů.\n",
    "5. Jaké jsou rozdíly v délkách jednotlivých typů genů?\n",
    "    5. Legenda\n",
    "    6. Boxplot snRNA a rRNA.\n",
    "6. Kolik genů se nachází na řetězci +/-?\n",
    "7. Kolik genů nemá název?\n",
    "    7. Ukázka nepojmenovaných genů.\n",
    "8. Kolik genů má název?\n",
    "    8. Kontrola správnosti výpočtu.\n",
    "9. Geny s unikátním názvem.\n",
    "10. Kolik má králík divoký transkriptů?\n",
    "11. Jaké má typy transkriptů?\n",
    "12. Typy transkriptů a jejich počet.\n",
    "13. Rozdíly délek jednotlivých typů transkriptů.\n",
    "    13. Legenda\n",
    "\t14. Boxplot transkriptů snRNA a rRNA\n",
    "14. Kolik transkriptů se nachází na +/- řetězci?\n",
    "15. Počet transkriptů bez názvu.\n",
    "   \t15. Příklady nepojmenovaných transkriptů.\n",
    "16. Transkripty s názvem.\n",
    " \t16. Kontrola správnosti výpočtu.\n",
    "17. Transkripty s unikátním názvem."
   ]
  },
  {
   "cell_type": "markdown",
   "metadata": {
    "collapsed": true
   },
   "source": [
    "** 1. Počet identifikovaných sekvencí v genomu králíka **"
   ]
  },
  {
   "cell_type": "code",
   "execution_count": 10,
   "metadata": {
    "collapsed": false
   },
   "outputs": [
    {
     "data": {
      "text/plain": [
       "23"
      ]
     },
     "execution_count": 10,
     "metadata": {},
     "output_type": "execute_result"
    }
   ],
   "source": [
    "len(genes[\"seqname\"].unique())"
   ]
  },
  {
   "cell_type": "markdown",
   "metadata": {},
   "source": [
    "** 2. Celkový počet genů.**"
   ]
  },
  {
   "cell_type": "code",
   "execution_count": 11,
   "metadata": {
    "collapsed": false
   },
   "outputs": [
    {
     "data": {
      "text/plain": [
       "17434"
      ]
     },
     "execution_count": 11,
     "metadata": {},
     "output_type": "execute_result"
    }
   ],
   "source": [
    "len(genes)"
   ]
  },
  {
   "cell_type": "markdown",
   "metadata": {},
   "source": [
    "** 3. Jaké jsou v genotypu typy kódujících genů? **"
   ]
  },
  {
   "cell_type": "code",
   "execution_count": 12,
   "metadata": {
    "collapsed": false
   },
   "outputs": [
    {
     "data": {
      "text/plain": [
       "['protein_coding',\n",
       " 'snRNA',\n",
       " 'snoRNA',\n",
       " 'pseudogene',\n",
       " 'rRNA',\n",
       " 'miRNA',\n",
       " 'misc_RNA',\n",
       " 'processed_pseudogene',\n",
       " 'Mt_tRNA',\n",
       " 'Mt_rRNA']"
      ]
     },
     "execution_count": 12,
     "metadata": {},
     "output_type": "execute_result"
    }
   ],
   "source": [
    "genes_coding_type = genes[\"gene_biotype\"].value_counts().index.tolist()\n",
    "genes_coding_type\n",
    "\n",
    "# Načte ze souboru hodnoty ze sloupce 'gene_biotype'.\n",
    "# Vyfiltruje je a poté z nich sestaví seznam, jak jsou popoadě v souboru.\n",
    "# http://stackoverflow.com/questions/35523635/extract-values-in-pandas-value-counts"
   ]
  },
  {
   "cell_type": "markdown",
   "metadata": {},
   "source": [
    "** 4. Kolik je genů v jednotlivých genových typech? **"
   ]
  },
  {
   "cell_type": "code",
   "execution_count": 13,
   "metadata": {
    "collapsed": false
   },
   "outputs": [
    {
     "data": {
      "text/plain": [
       "protein_coding          13913\n",
       "snRNA                     839\n",
       "snoRNA                    803\n",
       "pseudogene                683\n",
       "rRNA                      419\n",
       "miRNA                     404\n",
       "misc_RNA                  263\n",
       "processed_pseudogene       86\n",
       "Mt_tRNA                    22\n",
       "Mt_rRNA                     2\n",
       "Name: gene_biotype, dtype: int64"
      ]
     },
     "execution_count": 13,
     "metadata": {},
     "output_type": "execute_result"
    }
   ],
   "source": [
    "genes_coding_type = genes[\"gene_biotype\"].value_counts()\n",
    "genes_coding_type\n",
    "\n",
    "# Jednodušší verze příkazu výš.\n",
    "# Udává množství jednotlivých biotypů.\n",
    "# Sloupec vlevo = co protein kóduje / sloupec vpravo = množství daných genů"
   ]
  },
  {
   "cell_type": "markdown",
   "metadata": {},
   "source": [
    "** A. Graf četnosti genových typů. **"
   ]
  },
  {
   "cell_type": "code",
   "execution_count": 14,
   "metadata": {
    "collapsed": false
   },
   "outputs": [
    {
     "data": {
      "image/png": "[encoded data removed]",
      "text/plain": [
       "<matplotlib.figure.Figure at 0x1be0038e7b8>"
      ]
     },
     "metadata": {},
     "output_type": "display_data"
    }
   ],
   "source": [
    "y_pos = np.arange(10)\n",
    "plt.bar(y_pos, genes_coding_type,align='center', alpha=0.9) \n",
    "plt.xticks(y_pos, [\"protein_coding\",\"snRNA\",\"snoRNA\",\"pseudogene\",\"rRNA\",\"miRNA\",\"misc_RNA\",\"processed_pseudogenes\",\"Mt_tRNA\",\"Mt_rRNA\"])\n",
    "plt.ylabel('Amount')\n",
    "plt.xlabel(\"Gene type\")\n",
    "plt.title('Amount of genes in categories')\n",
    "for ax in plt.gcf().axes:\n",
    "    plt.sca(ax)\n",
    "    plt.xticks(ax.get_xticks(), rotation=75)\n",
    "plt.show()\n",
    "\n",
    "# np.arange - určí počet sloupců v grafu\n",
    "# umístění sloupce + barva\n",
    "# popisky sloupců\n",
    "# popis osy Y\n",
    "# popis osy X\n",
    "# název grafu\n",
    "\n",
    "#rotace popisek\n",
    "#ukázat graf"
   ]
  },
  {
   "cell_type": "markdown",
   "metadata": {
    "collapsed": true
   },
   "source": [
    "** 5. Rozdíly v délkách jednotlivých typů genů.**"
   ]
  },
  {
   "cell_type": "code",
   "execution_count": 15,
   "metadata": {
    "collapsed": false
   },
   "outputs": [
    {
     "name": "stdout",
     "output_type": "stream",
     "text": [
      "gene_biotype               \n",
      "Mt_rRNA               count    2.000000e+00\n",
      "                      mean     1.267000e+03\n",
      "                      std      4.398204e+02\n",
      "                      min      9.560000e+02\n",
      "                      25%      1.111500e+03\n",
      "                      50%      1.267000e+03\n",
      "                      75%      1.422500e+03\n",
      "                      max      1.578000e+03\n",
      "Mt_tRNA               count    2.200000e+01\n",
      "                      mean     6.740909e+01\n",
      "                      std      3.126828e+00\n",
      "                      min      5.800000e+01\n",
      "                      25%      6.600000e+01\n",
      "                      50%      6.800000e+01\n",
      "                      75%      6.875000e+01\n",
      "                      max      7.400000e+01\n",
      "miRNA                 count    4.040000e+02\n",
      "                      mean     9.044307e+01\n",
      "                      std      1.996335e+01\n",
      "                      min      5.000000e+01\n",
      "                      25%      7.900000e+01\n",
      "                      50%      8.700000e+01\n",
      "                      75%      9.825000e+01\n",
      "                      max      2.250000e+02\n",
      "misc_RNA              count    2.630000e+02\n",
      "                      mean     2.786008e+02\n",
      "                      std      7.033722e+01\n",
      "                      min      4.500000e+01\n",
      "                      25%      2.740000e+02\n",
      "                      50%      3.000000e+02\n",
      "                      75%      3.185000e+02\n",
      "                      max      4.370000e+02\n",
      "processed_pseudogene  count    8.600000e+01\n",
      "                      mean     5.708721e+02\n",
      "                      std      3.310059e+02\n",
      "                      min      9.200000e+01\n",
      "                      25%      3.462500e+02\n",
      "                      50%      4.850000e+02\n",
      "                      75%      7.377500e+02\n",
      "                      max      1.589000e+03\n",
      "protein_coding        count    1.391300e+04\n",
      "                      mean     5.084307e+04\n",
      "                      std      8.967508e+04\n",
      "                      min      8.700000e+01\n",
      "                      25%      3.427000e+03\n",
      "                      50%      1.803400e+04\n",
      "                      75%      5.701400e+04\n",
      "                      max      1.296243e+06\n",
      "pseudogene            count    6.830000e+02\n",
      "                      mean     8.074612e+02\n",
      "                      std      5.071099e+02\n",
      "                      min      9.000000e+01\n",
      "                      25%      4.630000e+02\n",
      "                      50%      6.660000e+02\n",
      "                      75%      9.780000e+02\n",
      "                      max      4.793000e+03\n",
      "rRNA                  count    4.190000e+02\n",
      "                      mean     1.125107e+02\n",
      "                      std      1.339809e+01\n",
      "                      min      3.300000e+01\n",
      "                      25%      1.070000e+02\n",
      "                      50%      1.140000e+02\n",
      "                      75%      1.190000e+02\n",
      "                      max      1.370000e+02\n",
      "snRNA                 count    8.390000e+02\n",
      "                      mean     1.163552e+02\n",
      "                      std      2.824712e+01\n",
      "                      min      4.500000e+01\n",
      "                      25%      1.030000e+02\n",
      "                      50%      1.060000e+02\n",
      "                      75%      1.220000e+02\n",
      "                      max      2.180000e+02\n",
      "snoRNA                count    8.030000e+02\n",
      "                      mean     1.127522e+02\n",
      "                      std      3.869182e+01\n",
      "                      min      5.400000e+01\n",
      "                      25%      8.000000e+01\n",
      "                      50%      1.190000e+02\n",
      "                      75%      1.310000e+02\n",
      "                      max      4.260000e+02\n"
     ]
    }
   ],
   "source": [
    "genes[\"length\"] = genes[\"end\"]-genes[\"start\"]\n",
    "print(genes.groupby([\"gene_biotype\"])[\"length\"].describe().to_string())\n",
    "\n",
    "# na konec \"print(---.groupby([\"...\"])[\"...\"]. ...().to_string())\n",
    "# .to_string pro převedení float na str\n",
    "# http://bconnelly.net/2013/10/summarizing-data-in-python-with-pandas/"
   ]
  },
  {
   "cell_type": "markdown",
   "metadata": {},
   "source": [
    "LEGENDA:\n",
    "\n",
    "count = počet\n",
    "\n",
    "mean = průměr\n",
    "\n",
    "std = odchylka\n",
    "\n",
    "min = minimum\n",
    "\n",
    "25/50/75% = jednotlivé kvartily\n",
    "\n",
    "max = maximum"
   ]
  },
  {
   "cell_type": "markdown",
   "metadata": {},
   "source": [
    "** A. Boxplot porovnání délky sekvencí snRNA a rRNA.**"
   ]
  },
  {
   "cell_type": "code",
   "execution_count": 40,
   "metadata": {
    "collapsed": false
   },
   "outputs": [
    {
     "data": {
      "image/png": "[encoded data removed]",
      "text/plain": [
       "<matplotlib.figure.Figure at 0x1be00546668>"
      ]
     },
     "metadata": {},
     "output_type": "display_data"
    }
   ],
   "source": [
    "len_snRNA=genes[genes[\"gene_biotype\"]==\"snRNA\"].length\n",
    "len_rRNA=genes[genes[\"gene_biotype\"]==\"rRNA\"].length\n",
    "x1=len_snRNA.tolist()\n",
    "x2=len_rRNA.tolist()\n",
    "x=[x1,x2]\n",
    "\n",
    "plot_box_1=plt.boxplot(x, vert=True, patch_artist=True)\n",
    "plt.setp(plot_box_1['boxes'],color='Cyan',linewidth=2,facecolor='DarkBlue')\n",
    "plt.setp(plot_box_1['whiskers'], color='DarkBlue', linewidth=1.5) \n",
    "plt.setp(plot_box_1['caps'], color='M', linewidth=1.5)  \n",
    "plt.setp(plot_box_1['fliers'], marker='o', markersize=3)\n",
    "\n",
    "plt.setp(plot_box_1['medians'], color='Orange', linewidth=1.5)\n",
    "# označení průměrné hodnoty + šířka čáry\n",
    "\n",
    "plt.grid(axis='y', linestyle='--', which='major', color='lightgrey', alpha=0.7)\n",
    "plt.xticks([1, 2], [\"snRNA\", \"rRNA\"])\n",
    "# počet sloupců + popisky\n",
    "\n",
    "plt.ylabel('Délka genové sekvence') \n",
    "plt.title('Srovnání délky sekvencí snRNA a rRNA')\n",
    "plt.show()"
   ]
  },
  {
   "cell_type": "markdown",
   "metadata": {},
   "source": [
    "** 6. Kolik genů se nachází na + / - řetězci? **"
   ]
  },
  {
   "cell_type": "code",
   "execution_count": 18,
   "metadata": {
    "collapsed": false
   },
   "outputs": [
    {
     "data": {
      "text/plain": [
       "-    8772\n",
       "+    8662\n",
       "Name: strand, dtype: int64"
      ]
     },
     "execution_count": 18,
     "metadata": {},
     "output_type": "execute_result"
    }
   ],
   "source": [
    "strand_genes_amount = genes[\"strand\"].value_counts()\n",
    "strand_genes_amount"
   ]
  },
  {
   "cell_type": "markdown",
   "metadata": {},
   "source": [
    "** 7. Geny bez názvu. **"
   ]
  },
  {
   "cell_type": "code",
   "execution_count": 19,
   "metadata": {
    "collapsed": false
   },
   "outputs": [
    {
     "name": "stdout",
     "output_type": "stream",
     "text": [
      "Počet genů bez názvu:  6570\n"
     ]
    }
   ],
   "source": [
    "noname_genes = genes[\"gene_name\"].isnull().values.sum()\n",
    "print(\"Počet genů bez názvu: \", noname_genes)"
   ]
  },
  {
   "cell_type": "markdown",
   "metadata": {},
   "source": [
    "** A. Ukázka nepojmenovaných genů. **"
   ]
  },
  {
   "cell_type": "code",
   "execution_count": 20,
   "metadata": {
    "collapsed": true
   },
   "outputs": [],
   "source": [
    "# print(genes[\"gene_name\"].isnull())"
   ]
  },
  {
   "cell_type": "code",
   "execution_count": 21,
   "metadata": {
    "collapsed": false
   },
   "outputs": [
    {
     "data": {
      "text/html": [
       "<div>\n",
       "<table border=\"1\" class=\"dataframe\">\n",
       "  <thead>\n",
       "    <tr style=\"text-align: right;\">\n",
       "      <th></th>\n",
       "      <th>seqname</th>\n",
       "      <th>source</th>\n",
       "      <th>feature</th>\n",
       "      <th>start</th>\n",
       "      <th>end</th>\n",
       "      <th>score</th>\n",
       "      <th>strand</th>\n",
       "      <th>frame</th>\n",
       "      <th>gene_biotype</th>\n",
       "      <th>gene_id</th>\n",
       "      <th>gene_name</th>\n",
       "      <th>length</th>\n",
       "    </tr>\n",
       "  </thead>\n",
       "  <tbody>\n",
       "    <tr>\n",
       "      <th>5</th>\n",
       "      <td>1</td>\n",
       "      <td>ensembl</td>\n",
       "      <td>gene</td>\n",
       "      <td>126038</td>\n",
       "      <td>162795</td>\n",
       "      <td>.</td>\n",
       "      <td>+</td>\n",
       "      <td>.</td>\n",
       "      <td>protein_coding</td>\n",
       "      <td>ENSOCUG00000005028</td>\n",
       "      <td>NaN</td>\n",
       "      <td>36757</td>\n",
       "    </tr>\n",
       "  </tbody>\n",
       "</table>\n",
       "</div>"
      ],
      "text/plain": [
       "  seqname   source feature   start     end score strand frame    gene_biotype  \\\n",
       "5       1  ensembl    gene  126038  162795     .      +     .  protein_coding   \n",
       "\n",
       "              gene_id gene_name  length  \n",
       "5  ENSOCUG00000005028       NaN   36757  "
      ]
     },
     "execution_count": 21,
     "metadata": {},
     "output_type": "execute_result"
    }
   ],
   "source": [
    "genes[5:6]"
   ]
  },
  {
   "cell_type": "code",
   "execution_count": 22,
   "metadata": {
    "collapsed": false
   },
   "outputs": [
    {
     "data": {
      "text/html": [
       "<div>\n",
       "<table border=\"1\" class=\"dataframe\">\n",
       "  <thead>\n",
       "    <tr style=\"text-align: right;\">\n",
       "      <th></th>\n",
       "      <th>seqname</th>\n",
       "      <th>source</th>\n",
       "      <th>feature</th>\n",
       "      <th>start</th>\n",
       "      <th>end</th>\n",
       "      <th>score</th>\n",
       "      <th>strand</th>\n",
       "      <th>frame</th>\n",
       "      <th>gene_biotype</th>\n",
       "      <th>gene_id</th>\n",
       "      <th>gene_name</th>\n",
       "      <th>length</th>\n",
       "    </tr>\n",
       "  </thead>\n",
       "  <tbody>\n",
       "    <tr>\n",
       "      <th>8</th>\n",
       "      <td>1</td>\n",
       "      <td>ensembl</td>\n",
       "      <td>gene</td>\n",
       "      <td>367324</td>\n",
       "      <td>372684</td>\n",
       "      <td>.</td>\n",
       "      <td>+</td>\n",
       "      <td>.</td>\n",
       "      <td>protein_coding</td>\n",
       "      <td>ENSOCUG00000026544</td>\n",
       "      <td>NaN</td>\n",
       "      <td>5360</td>\n",
       "    </tr>\n",
       "  </tbody>\n",
       "</table>\n",
       "</div>"
      ],
      "text/plain": [
       "  seqname   source feature   start     end score strand frame    gene_biotype  \\\n",
       "8       1  ensembl    gene  367324  372684     .      +     .  protein_coding   \n",
       "\n",
       "              gene_id gene_name  length  \n",
       "8  ENSOCUG00000026544       NaN    5360  "
      ]
     },
     "execution_count": 22,
     "metadata": {},
     "output_type": "execute_result"
    }
   ],
   "source": [
    "genes[8:9]"
   ]
  },
  {
   "cell_type": "markdown",
   "metadata": {},
   "source": [
    "** 8. Geny s názvem. **"
   ]
  },
  {
   "cell_type": "code",
   "execution_count": 23,
   "metadata": {
    "collapsed": false
   },
   "outputs": [
    {
     "name": "stdout",
     "output_type": "stream",
     "text": [
      "Počet genů s názvem:  10864\n"
     ]
    }
   ],
   "source": [
    "genes_with_name = genes[\"gene_name\"].notnull().values.sum()\n",
    "print(\"Počet genů s názvem: \", genes_with_name)"
   ]
  },
  {
   "cell_type": "markdown",
   "metadata": {},
   "source": [
    "** Kontrola správnosti výpočtu. **"
   ]
  },
  {
   "cell_type": "code",
   "execution_count": 24,
   "metadata": {
    "collapsed": false
   },
   "outputs": [
    {
     "data": {
      "text/plain": [
       "True"
      ]
     },
     "execution_count": 24,
     "metadata": {},
     "output_type": "execute_result"
    }
   ],
   "source": [
    "noname_genes + genes_with_name == len(genes)"
   ]
  },
  {
   "cell_type": "markdown",
   "metadata": {},
   "source": [
    "** 9. Geny s unikátním názvem. **"
   ]
  },
  {
   "cell_type": "code",
   "execution_count": 25,
   "metadata": {
    "collapsed": false
   },
   "outputs": [
    {
     "name": "stdout",
     "output_type": "stream",
     "text": [
      "Počet genů s unikátním názvem:  10445\n"
     ]
    }
   ],
   "source": [
    "genes_with_unique_name = genes[\"gene_name\"].nunique()\n",
    "print(\"Počet genů s unikátním názvem: \", genes_with_unique_name)"
   ]
  },
  {
   "cell_type": "markdown",
   "metadata": {},
   "source": [
    "<img src=\"http://www.zelenyhajsmidary.estranky.cz/img/mid/181/6.jpg\" width=50% \n",
    "alt=\"http://www.zelenyhajsmidary.estranky.cz/img/mid/181/6.jpg\">"
   ]
  },
  {
   "cell_type": "markdown",
   "metadata": {},
   "source": [
    "** 10. Kolik má králík divoký transkriptů? **"
   ]
  },
  {
   "cell_type": "code",
   "execution_count": 26,
   "metadata": {
    "collapsed": false
   },
   "outputs": [
    {
     "data": {
      "text/plain": [
       "18386"
      ]
     },
     "execution_count": 26,
     "metadata": {},
     "output_type": "execute_result"
    }
   ],
   "source": [
    "len(transcripts)"
   ]
  },
  {
   "cell_type": "markdown",
   "metadata": {},
   "source": [
    "** 11. Typy transkriptů v genomu. **"
   ]
  },
  {
   "cell_type": "code",
   "execution_count": 27,
   "metadata": {
    "collapsed": false
   },
   "outputs": [
    {
     "data": {
      "text/plain": [
       "['protein_coding',\n",
       " 'snRNA',\n",
       " 'snoRNA',\n",
       " 'pseudogene',\n",
       " 'rRNA',\n",
       " 'miRNA',\n",
       " 'misc_RNA',\n",
       " 'processed_pseudogene',\n",
       " 'Mt_tRNA',\n",
       " 'Mt_rRNA']"
      ]
     },
     "execution_count": 27,
     "metadata": {},
     "output_type": "execute_result"
    }
   ],
   "source": [
    "transcripts_type = transcripts[\"transcript_biotype\"].value_counts().index.tolist()\n",
    "transcripts_type"
   ]
  },
  {
   "cell_type": "markdown",
   "metadata": {},
   "source": [
    "** 12. Typy transkriptů a jejich počet. **"
   ]
  },
  {
   "cell_type": "code",
   "execution_count": 28,
   "metadata": {
    "collapsed": false
   },
   "outputs": [
    {
     "data": {
      "text/plain": [
       "protein_coding          14865\n",
       "snRNA                     839\n",
       "snoRNA                    803\n",
       "pseudogene                683\n",
       "rRNA                      419\n",
       "miRNA                     404\n",
       "misc_RNA                  263\n",
       "processed_pseudogene       86\n",
       "Mt_tRNA                    22\n",
       "Mt_rRNA                     2\n",
       "Name: transcript_biotype, dtype: int64"
      ]
     },
     "execution_count": 28,
     "metadata": {},
     "output_type": "execute_result"
    }
   ],
   "source": [
    "transcripts_type = transcripts[\"transcript_biotype\"].value_counts()\n",
    "transcripts_type"
   ]
  },
  {
   "cell_type": "markdown",
   "metadata": {},
   "source": [
    "** 13. Rozdíly délek jednotlivých typů transkriptů.**"
   ]
  },
  {
   "cell_type": "code",
   "execution_count": 29,
   "metadata": {
    "collapsed": false
   },
   "outputs": [
    {
     "name": "stdout",
     "output_type": "stream",
     "text": [
      "transcript_biotype         \n",
      "Mt_rRNA               count    2.000000e+00\n",
      "                      mean     1.267000e+03\n",
      "                      std      4.398204e+02\n",
      "                      min      9.560000e+02\n",
      "                      25%      1.111500e+03\n",
      "                      50%      1.267000e+03\n",
      "                      75%      1.422500e+03\n",
      "                      max      1.578000e+03\n",
      "Mt_tRNA               count    2.200000e+01\n",
      "                      mean     6.740909e+01\n",
      "                      std      3.126828e+00\n",
      "                      min      5.800000e+01\n",
      "                      25%      6.600000e+01\n",
      "                      50%      6.800000e+01\n",
      "                      75%      6.875000e+01\n",
      "                      max      7.400000e+01\n",
      "miRNA                 count    4.040000e+02\n",
      "                      mean     9.044307e+01\n",
      "                      std      1.996335e+01\n",
      "                      min      5.000000e+01\n",
      "                      25%      7.900000e+01\n",
      "                      50%      8.700000e+01\n",
      "                      75%      9.825000e+01\n",
      "                      max      2.250000e+02\n",
      "misc_RNA              count    2.630000e+02\n",
      "                      mean     2.786008e+02\n",
      "                      std      7.033722e+01\n",
      "                      min      4.500000e+01\n",
      "                      25%      2.740000e+02\n",
      "                      50%      3.000000e+02\n",
      "                      75%      3.185000e+02\n",
      "                      max      4.370000e+02\n",
      "processed_pseudogene  count    8.600000e+01\n",
      "                      mean     5.708721e+02\n",
      "                      std      3.310059e+02\n",
      "                      min      9.200000e+01\n",
      "                      25%      3.462500e+02\n",
      "                      50%      4.850000e+02\n",
      "                      75%      7.377500e+02\n",
      "                      max      1.589000e+03\n",
      "protein_coding        count    1.486500e+04\n",
      "                      mean     5.086203e+04\n",
      "                      std      8.893781e+04\n",
      "                      min      8.700000e+01\n",
      "                      25%      3.677000e+03\n",
      "                      50%      1.842400e+04\n",
      "                      75%      5.704600e+04\n",
      "                      max      1.296243e+06\n",
      "pseudogene            count    6.830000e+02\n",
      "                      mean     8.074612e+02\n",
      "                      std      5.071099e+02\n",
      "                      min      9.000000e+01\n",
      "                      25%      4.630000e+02\n",
      "                      50%      6.660000e+02\n",
      "                      75%      9.780000e+02\n",
      "                      max      4.793000e+03\n",
      "rRNA                  count    4.190000e+02\n",
      "                      mean     1.125107e+02\n",
      "                      std      1.339809e+01\n",
      "                      min      3.300000e+01\n",
      "                      25%      1.070000e+02\n",
      "                      50%      1.140000e+02\n",
      "                      75%      1.190000e+02\n",
      "                      max      1.370000e+02\n",
      "snRNA                 count    8.390000e+02\n",
      "                      mean     1.163552e+02\n",
      "                      std      2.824712e+01\n",
      "                      min      4.500000e+01\n",
      "                      25%      1.030000e+02\n",
      "                      50%      1.060000e+02\n",
      "                      75%      1.220000e+02\n",
      "                      max      2.180000e+02\n",
      "snoRNA                count    8.030000e+02\n",
      "                      mean     1.127522e+02\n",
      "                      std      3.869182e+01\n",
      "                      min      5.400000e+01\n",
      "                      25%      8.000000e+01\n",
      "                      50%      1.190000e+02\n",
      "                      75%      1.310000e+02\n",
      "                      max      4.260000e+02\n"
     ]
    }
   ],
   "source": [
    "transcripts[\"length\"]=transcripts[\"end\"]-transcripts[\"start\"]\n",
    "print(transcripts.groupby([\"transcript_biotype\"])[\"length\"].describe().to_string())"
   ]
  },
  {
   "cell_type": "markdown",
   "metadata": {},
   "source": [
    "**LEGENDA:**\n",
    "\n",
    "count = počet\n",
    "\n",
    "mean = průměr\n",
    "\n",
    "std = odchylka\n",
    "\n",
    "min = minimum\n",
    "\n",
    "25/50/75% = jednotlivé kvartily\n",
    "\n",
    "max = maximum"
   ]
  },
  {
   "cell_type": "markdown",
   "metadata": {},
   "source": [
    "** Boxplot transkriptů snRNA a rRNA **"
   ]
  },
  {
   "cell_type": "code",
   "execution_count": 46,
   "metadata": {
    "collapsed": false
   },
   "outputs": [
    {
     "data": {
      "image/png": "[encoded data removed]",
      "text/plain": [
       "<matplotlib.figure.Figure at 0x1be008c1dd8>"
      ]
     },
     "metadata": {},
     "output_type": "display_data"
    }
   ],
   "source": [
    "len_snRNA=transcripts[transcripts[\"transcript_biotype\"]==\"snRNA\"].length\n",
    "len_snoRNA=transcripts[transcripts[\"transcript_biotype\"]==\"snoRNA\"].length\n",
    "z1=len_snRNA.tolist()\n",
    "z2=len_snoRNA.tolist()\n",
    "z=[z1,z2]\n",
    "\n",
    "plot_box_1=plt.boxplot(z, vert=True, patch_artist=True)\n",
    "plt.setp(plot_box_1['boxes'],color='Cyan',linewidth=2,facecolor='DarkBlue')\n",
    "plt.setp(plot_box_1['whiskers'], color='DarkBlue', linewidth=1.5) \n",
    "plt.setp(plot_box_1['caps'], color='M', linewidth=1.5)  \n",
    "plt.setp(plot_box_1['fliers'], marker='o', markersize=3)\n",
    "\n",
    "plt.setp(plot_box_1['medians'], color='Orange', linewidth=1.5)\n",
    "# označení průměrné hodnoty + šířka čáry\n",
    "\n",
    "plt.grid(axis='y', linestyle='--', which='major', color='lightgrey', alpha=0.7)\n",
    "plt.xticks([1, 2], [\"snRNA\", \"snoRNA\"])\n",
    "# počet sloupců + popisky\n",
    "\n",
    "plt.ylabel('Délka transkriptu') \n",
    "plt.title('Srovnání délky transkriptu snRNA a snoRNA')\n",
    "plt.show()"
   ]
  },
  {
   "cell_type": "markdown",
   "metadata": {},
   "source": [
    "** 14. Kolik transkriptů se nachází na + / - řetězci? **"
   ]
  },
  {
   "cell_type": "code",
   "execution_count": 30,
   "metadata": {
    "collapsed": false
   },
   "outputs": [
    {
     "data": {
      "text/plain": [
       "-    9243\n",
       "+    9143\n",
       "Name: strand, dtype: int64"
      ]
     },
     "execution_count": 30,
     "metadata": {},
     "output_type": "execute_result"
    }
   ],
   "source": [
    "strand_transcripts_amount = transcripts[\"strand\"].value_counts()\n",
    "strand_transcripts_amount"
   ]
  },
  {
   "cell_type": "markdown",
   "metadata": {},
   "source": [
    "** 15. Počet transkriptů bez názvu. **"
   ]
  },
  {
   "cell_type": "code",
   "execution_count": 31,
   "metadata": {
    "collapsed": false
   },
   "outputs": [
    {
     "name": "stdout",
     "output_type": "stream",
     "text": [
      "Počet transkriptů bez názvu:  6716\n"
     ]
    }
   ],
   "source": [
    "noname_transcripts = transcripts[\"transcript_name\"].isnull().values.sum()\n",
    "print(\"Počet transkriptů bez názvu: \", noname_transcripts)"
   ]
  },
  {
   "cell_type": "markdown",
   "metadata": {},
   "source": [
    "** A. Příklady nepojmenovaných transkriptů. **"
   ]
  },
  {
   "cell_type": "code",
   "execution_count": 32,
   "metadata": {
    "collapsed": false
   },
   "outputs": [],
   "source": [
    "# print(transcripts[\"transcript_name\"].isnull())"
   ]
  },
  {
   "cell_type": "code",
   "execution_count": 33,
   "metadata": {
    "collapsed": false
   },
   "outputs": [
    {
     "data": {
      "text/html": [
       "<div>\n",
       "<table border=\"1\" class=\"dataframe\">\n",
       "  <thead>\n",
       "    <tr style=\"text-align: right;\">\n",
       "      <th></th>\n",
       "      <th>seqname</th>\n",
       "      <th>source</th>\n",
       "      <th>feature</th>\n",
       "      <th>start</th>\n",
       "      <th>end</th>\n",
       "      <th>score</th>\n",
       "      <th>strand</th>\n",
       "      <th>frame</th>\n",
       "      <th>gene_biotype</th>\n",
       "      <th>gene_id</th>\n",
       "      <th>gene_name</th>\n",
       "      <th>transcript_biotype</th>\n",
       "      <th>transcript_id</th>\n",
       "      <th>transcript_name</th>\n",
       "      <th>length</th>\n",
       "    </tr>\n",
       "  </thead>\n",
       "  <tbody>\n",
       "    <tr>\n",
       "      <th>5</th>\n",
       "      <td>1</td>\n",
       "      <td>ensembl</td>\n",
       "      <td>transcript</td>\n",
       "      <td>126038</td>\n",
       "      <td>162795</td>\n",
       "      <td>.</td>\n",
       "      <td>+</td>\n",
       "      <td>.</td>\n",
       "      <td>protein_coding</td>\n",
       "      <td>ENSOCUG00000005028</td>\n",
       "      <td>NaN</td>\n",
       "      <td>protein_coding</td>\n",
       "      <td>ENSOCUT00000005032</td>\n",
       "      <td>NaN</td>\n",
       "      <td>36757</td>\n",
       "    </tr>\n",
       "  </tbody>\n",
       "</table>\n",
       "</div>"
      ],
      "text/plain": [
       "  seqname   source     feature   start     end score strand frame  \\\n",
       "5       1  ensembl  transcript  126038  162795     .      +     .   \n",
       "\n",
       "     gene_biotype             gene_id gene_name transcript_biotype  \\\n",
       "5  protein_coding  ENSOCUG00000005028       NaN     protein_coding   \n",
       "\n",
       "        transcript_id transcript_name  length  \n",
       "5  ENSOCUT00000005032             NaN   36757  "
      ]
     },
     "execution_count": 33,
     "metadata": {},
     "output_type": "execute_result"
    }
   ],
   "source": [
    "transcripts[5:6]"
   ]
  },
  {
   "cell_type": "code",
   "execution_count": 34,
   "metadata": {
    "collapsed": false
   },
   "outputs": [
    {
     "data": {
      "text/html": [
       "<div>\n",
       "<table border=\"1\" class=\"dataframe\">\n",
       "  <thead>\n",
       "    <tr style=\"text-align: right;\">\n",
       "      <th></th>\n",
       "      <th>seqname</th>\n",
       "      <th>source</th>\n",
       "      <th>feature</th>\n",
       "      <th>start</th>\n",
       "      <th>end</th>\n",
       "      <th>score</th>\n",
       "      <th>strand</th>\n",
       "      <th>frame</th>\n",
       "      <th>gene_biotype</th>\n",
       "      <th>gene_id</th>\n",
       "      <th>gene_name</th>\n",
       "      <th>transcript_biotype</th>\n",
       "      <th>transcript_id</th>\n",
       "      <th>transcript_name</th>\n",
       "      <th>length</th>\n",
       "    </tr>\n",
       "  </thead>\n",
       "  <tbody>\n",
       "    <tr>\n",
       "      <th>17</th>\n",
       "      <td>1</td>\n",
       "      <td>ensembl</td>\n",
       "      <td>transcript</td>\n",
       "      <td>1290346</td>\n",
       "      <td>1290646</td>\n",
       "      <td>.</td>\n",
       "      <td>-</td>\n",
       "      <td>.</td>\n",
       "      <td>protein_coding</td>\n",
       "      <td>ENSOCUG00000021292</td>\n",
       "      <td>NaN</td>\n",
       "      <td>protein_coding</td>\n",
       "      <td>ENSOCUT00000025822</td>\n",
       "      <td>NaN</td>\n",
       "      <td>300</td>\n",
       "    </tr>\n",
       "  </tbody>\n",
       "</table>\n",
       "</div>"
      ],
      "text/plain": [
       "   seqname   source     feature    start      end score strand frame  \\\n",
       "17       1  ensembl  transcript  1290346  1290646     .      -     .   \n",
       "\n",
       "      gene_biotype             gene_id gene_name transcript_biotype  \\\n",
       "17  protein_coding  ENSOCUG00000021292       NaN     protein_coding   \n",
       "\n",
       "         transcript_id transcript_name  length  \n",
       "17  ENSOCUT00000025822             NaN     300  "
      ]
     },
     "execution_count": 34,
     "metadata": {},
     "output_type": "execute_result"
    }
   ],
   "source": [
    "transcripts[17:18]"
   ]
  },
  {
   "cell_type": "markdown",
   "metadata": {},
   "source": [
    "** 16. Transkripty s názvem. **"
   ]
  },
  {
   "cell_type": "code",
   "execution_count": 36,
   "metadata": {
    "collapsed": false
   },
   "outputs": [
    {
     "name": "stdout",
     "output_type": "stream",
     "text": [
      "Počet transkriptů s názvem je:  11670\n"
     ]
    }
   ],
   "source": [
    "transcripts_with_name = transcripts[\"transcript_name\"].notnull().values.sum()\n",
    "print(\"Počet transkriptů s názvem je: \", transcripts_with_name)"
   ]
  },
  {
   "cell_type": "markdown",
   "metadata": {},
   "source": [
    "** Kontrola správnosti výpočtu. **"
   ]
  },
  {
   "cell_type": "code",
   "execution_count": 37,
   "metadata": {
    "collapsed": false
   },
   "outputs": [
    {
     "data": {
      "text/plain": [
       "True"
      ]
     },
     "execution_count": 37,
     "metadata": {},
     "output_type": "execute_result"
    }
   ],
   "source": [
    "noname_transcripts + transcripts_with_name == len(transcripts)"
   ]
  },
  {
   "cell_type": "markdown",
   "metadata": {},
   "source": [
    "** 17. Transkripty s unikátním názvem. **"
   ]
  },
  {
   "cell_type": "code",
   "execution_count": 39,
   "metadata": {
    "collapsed": false
   },
   "outputs": [
    {
     "name": "stdout",
     "output_type": "stream",
     "text": [
      "Počet transkriptů s unikátním názvem je:  11251\n"
     ]
    }
   ],
   "source": [
    "transcripts_unique = transcripts[\"transcript_name\"].nunique()\n",
    "print(\"Počet transkriptů s unikátním názvem je: \", transcripts_unique)"
   ]
  },
  {
   "cell_type": "markdown",
   "metadata": {
    "collapsed": true
   },
   "source": [
    "# Konec prezentace. Děkuji za pozornost!"
   ]
  },
  {
   "cell_type": "markdown",
   "metadata": {},
   "source": [
    "<img src = \"http://wonderopolis.org/wp-content/uploads/2011/04/rabbit-on-white-background_shutterstock_64146802.jpg\" width=50% alt = \"http://wonderopolis.org/wp-content/uploads/2011/04/rabbit-on-white-background_shutterstock_64146802.jpg\"> "
   ]
  },
  {
   "cell_type": "code",
   "execution_count": null,
   "metadata": {
    "collapsed": true
   },
   "outputs": [],
   "source": []
  }
 ],
 "metadata": {
  "anaconda-cloud": {},
  "kernelspec": {
   "display_name": "Python [default]",
   "language": "python",
   "name": "python3"
  },
  "language_info": {
   "codemirror_mode": {
    "name": "ipython",
    "version": 3
   },
   "file_extension": ".py",
   "mimetype": "text/x-python",
   "name": "python",
   "nbconvert_exporter": "python",
   "pygments_lexer": "ipython3",
   "version": "3.5.2"
  }
 },
 "nbformat": 4,
 "nbformat_minor": 1
}
